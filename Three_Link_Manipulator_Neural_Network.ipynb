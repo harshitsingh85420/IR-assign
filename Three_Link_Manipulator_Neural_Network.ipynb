{
  "nbformat": 4,
  "nbformat_minor": 0,
  "metadata": {
    "colab": {
      "name": "Three_Link_Manipulator_Neural_Network.ipynb",
      "provenance": [],
      "collapsed_sections": []
    },
    "kernelspec": {
      "display_name": "Python 3",
      "language": "python",
      "name": "python3"
    },
    "language_info": {
      "codemirror_mode": {
        "name": "ipython",
        "version": 3
      },
      "file_extension": ".py",
      "mimetype": "text/x-python",
      "name": "python",
      "nbconvert_exporter": "python",
      "pygments_lexer": "ipython3",
      "version": "3.8.5"
    }
  },
  "cells": [
    {
      "cell_type": "code",
      "metadata": {
        "id": "r6qcMOPTtnoz"
      },
      "source": [
        "import pandas as pd\n",
        "import math\n",
        "import random\n",
        "import matplotlib.pyplot as plt\n",
        "from sklearn.model_selection import train_test_split\n",
        "from keras import models\n",
        "from keras import layers\n",
        "from keras import regularizers\n",
        "import numpy as np"
      ],
      "execution_count": null,
      "outputs": []
    },
    {
      "cell_type": "code",
      "metadata": {
        "id": "YoIGLO5btwCf"
      },
      "source": [
        "l1 = l2 = l3 = 7"
      ],
      "execution_count": null,
      "outputs": []
    },
    {
      "cell_type": "code",
      "metadata": {
        "id": "m6s6RXWWty6Z"
      },
      "source": [
        "## Generating dataset for training\n",
        "\n",
        "def three_link_manipulator_dataset():\n",
        "    rows = []\n",
        "    for i in range(1, 100000):\n",
        "        theta1 = round(random.uniform(0, math.pi), 2)\n",
        "        theta2 = round(random.uniform(-math.pi, 0), 2)\n",
        "        theta3 = round(random.uniform(-math.pi/2, math.pi/2), 2)\n",
        "        \n",
        "        x = round(l1*math.cos(theta1)+l2*math.cos(theta1+theta2)+l3*math.cos(theta1+theta2+theta3), 2)\n",
        "        y = round(l1*math.sin(theta1)+l2*math.sin(theta1+theta2)+l3*math.sin(theta1+theta2+theta3), 2)\n",
        "        phi = round(math.degrees(theta1)+math.degrees(theta2)+math.degrees(theta3), 2)\n",
        "        \n",
        "        rows.append([theta1, theta2, theta3, x, y, phi])\n",
        "\n",
        "    df = pd.DataFrame(rows, columns=['theta1', 'theta2', 'theta3', 'x', 'y', 'phi'])\n",
        "    df.to_csv('three_link.csv', index=False)\n",
        "    \n",
        "three_link_manipulator_dataset()"
      ],
      "execution_count": null,
      "outputs": []
    },
    {
      "cell_type": "code",
      "metadata": {
        "colab": {
          "base_uri": "https://localhost:8080/",
          "height": 195
        },
        "id": "fez0urRXvAUY",
        "outputId": "c2da8d33-d4f4-4122-e13a-162653d1ab46"
      },
      "source": [
        "three_link_data = pd.read_csv('three_link.csv')\n",
        "three_link_data.head()"
      ],
      "execution_count": null,
      "outputs": [
        {
          "output_type": "execute_result",
          "data": {
            "text/html": [
              "<div>\n",
              "<style scoped>\n",
              "    .dataframe tbody tr th:only-of-type {\n",
              "        vertical-align: middle;\n",
              "    }\n",
              "\n",
              "    .dataframe tbody tr th {\n",
              "        vertical-align: top;\n",
              "    }\n",
              "\n",
              "    .dataframe thead th {\n",
              "        text-align: right;\n",
              "    }\n",
              "</style>\n",
              "<table border=\"1\" class=\"dataframe\">\n",
              "  <thead>\n",
              "    <tr style=\"text-align: right;\">\n",
              "      <th></th>\n",
              "      <th>theta1</th>\n",
              "      <th>theta2</th>\n",
              "      <th>theta3</th>\n",
              "      <th>x</th>\n",
              "      <th>y</th>\n",
              "      <th>phi</th>\n",
              "    </tr>\n",
              "  </thead>\n",
              "  <tbody>\n",
              "    <tr>\n",
              "      <th>0</th>\n",
              "      <td>2.89</td>\n",
              "      <td>-1.03</td>\n",
              "      <td>0.62</td>\n",
              "      <td>-14.30</td>\n",
              "      <td>12.75</td>\n",
              "      <td>142.09</td>\n",
              "    </tr>\n",
              "    <tr>\n",
              "      <th>1</th>\n",
              "      <td>0.82</td>\n",
              "      <td>-0.18</td>\n",
              "      <td>-1.35</td>\n",
              "      <td>15.70</td>\n",
              "      <td>4.74</td>\n",
              "      <td>-40.68</td>\n",
              "    </tr>\n",
              "    <tr>\n",
              "      <th>2</th>\n",
              "      <td>0.85</td>\n",
              "      <td>-1.60</td>\n",
              "      <td>-1.40</td>\n",
              "      <td>5.91</td>\n",
              "      <td>-5.37</td>\n",
              "      <td>-123.19</td>\n",
              "    </tr>\n",
              "    <tr>\n",
              "      <th>3</th>\n",
              "      <td>3.13</td>\n",
              "      <td>-0.66</td>\n",
              "      <td>-1.49</td>\n",
              "      <td>-8.58</td>\n",
              "      <td>10.25</td>\n",
              "      <td>56.15</td>\n",
              "    </tr>\n",
              "    <tr>\n",
              "      <th>4</th>\n",
              "      <td>0.97</td>\n",
              "      <td>-0.13</td>\n",
              "      <td>1.38</td>\n",
              "      <td>4.40</td>\n",
              "      <td>16.56</td>\n",
              "      <td>127.20</td>\n",
              "    </tr>\n",
              "  </tbody>\n",
              "</table>\n",
              "</div>"
            ],
            "text/plain": [
              "   theta1  theta2  theta3      x      y     phi\n",
              "0    2.89   -1.03    0.62 -14.30  12.75  142.09\n",
              "1    0.82   -0.18   -1.35  15.70   4.74  -40.68\n",
              "2    0.85   -1.60   -1.40   5.91  -5.37 -123.19\n",
              "3    3.13   -0.66   -1.49  -8.58  10.25   56.15\n",
              "4    0.97   -0.13    1.38   4.40  16.56  127.20"
            ]
          },
          "metadata": {
            "tags": []
          },
          "execution_count": 4
        }
      ]
    },
    {
      "cell_type": "code",
      "metadata": {
        "colab": {
          "base_uri": "https://localhost:8080/",
          "height": 265
        },
        "id": "2IrLG00Yv0wE",
        "outputId": "3acf0a59-ff3a-42e7-d33d-79f5fddf5411"
      },
      "source": [
        "plt.scatter(three_link_data['x'], three_link_data['y'])\n",
        "plt.show()  "
      ],
      "execution_count": null,
      "outputs": [
        {
          "output_type": "display_data",
          "data": {
            "image/png": "[encoded data removed]",
            "text/plain": [
              "<Figure size 432x288 with 1 Axes>"
            ]
          },
          "metadata": {
            "tags": [],
            "needs_background": "light"
          }
        }
      ]
    },
    {
      "cell_type": "code",
      "metadata": {
        "id": "KO6P3XbEwAuN"
      },
      "source": [
        "# Splitting training and testing dataset\n",
        "\n",
        "X = three_link_data[['x', 'y', 'phi']]\n",
        "y = three_link_data[['theta1', 'theta2', 'theta3']]\n",
        "train_X, test_X, train_y, test_y = train_test_split(X, y, test_size=0.1)"
      ],
      "execution_count": null,
      "outputs": []
    },
    {
      "cell_type": "code",
      "metadata": {
        "colab": {
          "base_uri": "https://localhost:8080/"
        },
        "id": "2Wzk57fAwclO",
        "outputId": "8a297985-114b-4791-811d-76bb3bf045ba"
      },
      "source": [
        "# Defining model\n",
        "\n",
        "model = models.Sequential()\n",
        "model.add(layers.Dense(units=3, input_dim=3, kernel_initializer='uniform'))\n",
        "model.add(layers.Dense(units=100, kernel_initializer='uniform', activation='relu'))\n",
        "model.add(layers.Dense(units=100, kernel_initializer='uniform', activation='relu'))\n",
        "model.add(layers.Dense(units=3, kernel_initializer = 'uniform', activation='linear'))\n",
        "\n",
        "model.summary()"
      ],
      "execution_count": null,
      "outputs": [
        {
          "output_type": "stream",
          "text": [
            "Model: \"sequential\"\n",
            "_________________________________________________________________\n",
            "Layer (type)                 Output Shape              Param #   \n",
            "=================================================================\n",
            "dense (Dense)                (None, 3)                 12        \n",
            "_________________________________________________________________\n",
            "dense_1 (Dense)              (None, 100)               400       \n",
            "_________________________________________________________________\n",
            "dense_2 (Dense)              (None, 100)               10100     \n",
            "_________________________________________________________________\n",
            "dense_3 (Dense)              (None, 3)                 303       \n",
            "=================================================================\n",
            "Total params: 10,815\n",
            "Trainable params: 10,815\n",
            "Non-trainable params: 0\n",
            "_________________________________________________________________\n"
          ],
          "name": "stdout"
        }
      ]
    },
    {
      "cell_type": "code",
      "metadata": {
        "id": "lb6iUoZ1wfig"
      },
      "source": [
        "model.compile(optimizer='adam', loss='mean_squared_error', metrics=['accuracy'])"
      ],
      "execution_count": null,
      "outputs": []
    },
    {
      "cell_type": "code",
      "metadata": {
        "colab": {
          "base_uri": "https://localhost:8080/"
        },
        "id": "9tppCEP7wf_S",
        "outputId": "9081f01e-7939-4542-9360-63df6f9b9244"
      },
      "source": [
        "# Training model\n",
        "\n",
        "history = model.fit(train_X, train_y, epochs=30, validation_split=0.1, shuffle=True)"
      ],
      "execution_count": null,
      "outputs": [
        {
          "output_type": "stream",
          "text": [
            "Epoch 1/30\n",
            "2532/2532 [==============================] - 4s 1ms/step - loss: 0.4590 - accuracy: 0.9043 - val_loss: 0.0527 - val_accuracy: 0.9543\n",
            "Epoch 2/30\n",
            "2532/2532 [==============================] - 3s 1ms/step - loss: 0.0415 - accuracy: 0.9624 - val_loss: 0.0338 - val_accuracy: 0.9636\n",
            "Epoch 3/30\n",
            "2532/2532 [==============================] - 3s 1ms/step - loss: 0.0318 - accuracy: 0.9686 - val_loss: 0.0261 - val_accuracy: 0.9758\n",
            "Epoch 4/30\n",
            "2532/2532 [==============================] - 3s 1ms/step - loss: 0.0275 - accuracy: 0.9707 - val_loss: 0.0285 - val_accuracy: 0.9682\n",
            "Epoch 5/30\n",
            "2532/2532 [==============================] - 3s 1ms/step - loss: 0.0248 - accuracy: 0.9739 - val_loss: 0.0208 - val_accuracy: 0.9767\n",
            "Epoch 6/30\n",
            "2532/2532 [==============================] - 3s 1ms/step - loss: 0.0224 - accuracy: 0.9751 - val_loss: 0.0182 - val_accuracy: 0.9759\n",
            "Epoch 7/30\n",
            "2532/2532 [==============================] - 3s 1ms/step - loss: 0.0215 - accuracy: 0.9741 - val_loss: 0.0161 - val_accuracy: 0.9789\n",
            "Epoch 8/30\n",
            "2532/2532 [==============================] - 3s 1ms/step - loss: 0.0208 - accuracy: 0.9772 - val_loss: 0.0222 - val_accuracy: 0.9742\n",
            "Epoch 9/30\n",
            "2532/2532 [==============================] - 3s 1ms/step - loss: 0.0193 - accuracy: 0.9773 - val_loss: 0.0166 - val_accuracy: 0.9810\n",
            "Epoch 10/30\n",
            "2532/2532 [==============================] - 3s 1ms/step - loss: 0.0189 - accuracy: 0.9779 - val_loss: 0.0135 - val_accuracy: 0.9846\n",
            "Epoch 11/30\n",
            "2532/2532 [==============================] - 3s 1ms/step - loss: 0.0173 - accuracy: 0.9800 - val_loss: 0.0160 - val_accuracy: 0.9843\n",
            "Epoch 12/30\n",
            "2532/2532 [==============================] - 3s 1ms/step - loss: 0.0164 - accuracy: 0.9799 - val_loss: 0.0156 - val_accuracy: 0.9827\n",
            "Epoch 13/30\n",
            "2532/2532 [==============================] - 3s 1ms/step - loss: 0.0160 - accuracy: 0.9796 - val_loss: 0.0319 - val_accuracy: 0.9730\n",
            "Epoch 14/30\n",
            "2532/2532 [==============================] - 3s 1ms/step - loss: 0.0160 - accuracy: 0.9790 - val_loss: 0.0121 - val_accuracy: 0.9828\n",
            "Epoch 15/30\n",
            "2532/2532 [==============================] - 3s 1ms/step - loss: 0.0151 - accuracy: 0.9810 - val_loss: 0.0105 - val_accuracy: 0.9809\n",
            "Epoch 16/30\n",
            "2532/2532 [==============================] - 3s 1ms/step - loss: 0.0146 - accuracy: 0.9802 - val_loss: 0.0139 - val_accuracy: 0.9837\n",
            "Epoch 17/30\n",
            "2532/2532 [==============================] - 3s 1ms/step - loss: 0.0153 - accuracy: 0.9809 - val_loss: 0.0217 - val_accuracy: 0.9813\n",
            "Epoch 18/30\n",
            "2532/2532 [==============================] - 3s 1ms/step - loss: 0.0137 - accuracy: 0.9830 - val_loss: 0.0154 - val_accuracy: 0.9761\n",
            "Epoch 19/30\n",
            "2532/2532 [==============================] - 3s 1ms/step - loss: 0.0141 - accuracy: 0.9816 - val_loss: 0.0106 - val_accuracy: 0.9846\n",
            "Epoch 20/30\n",
            "2532/2532 [==============================] - 3s 1ms/step - loss: 0.0135 - accuracy: 0.9833 - val_loss: 0.0122 - val_accuracy: 0.9863\n",
            "Epoch 21/30\n",
            "2532/2532 [==============================] - 3s 1ms/step - loss: 0.0140 - accuracy: 0.9827 - val_loss: 0.0120 - val_accuracy: 0.9857\n",
            "Epoch 22/30\n",
            "2532/2532 [==============================] - 3s 1ms/step - loss: 0.0133 - accuracy: 0.9835 - val_loss: 0.0098 - val_accuracy: 0.9810\n",
            "Epoch 23/30\n",
            "2532/2532 [==============================] - 3s 1ms/step - loss: 0.0131 - accuracy: 0.9828 - val_loss: 0.0123 - val_accuracy: 0.9877\n",
            "Epoch 24/30\n",
            "2532/2532 [==============================] - 3s 1ms/step - loss: 0.0125 - accuracy: 0.9832 - val_loss: 0.0148 - val_accuracy: 0.9866\n",
            "Epoch 25/30\n",
            "2532/2532 [==============================] - 3s 1ms/step - loss: 0.0132 - accuracy: 0.9825 - val_loss: 0.0133 - val_accuracy: 0.9864\n",
            "Epoch 26/30\n",
            "2532/2532 [==============================] - 3s 1ms/step - loss: 0.0129 - accuracy: 0.9833 - val_loss: 0.0131 - val_accuracy: 0.9890\n",
            "Epoch 27/30\n",
            "2532/2532 [==============================] - 3s 1ms/step - loss: 0.0125 - accuracy: 0.9840 - val_loss: 0.0113 - val_accuracy: 0.9858\n",
            "Epoch 28/30\n",
            "2532/2532 [==============================] - 3s 1ms/step - loss: 0.0120 - accuracy: 0.9854 - val_loss: 0.0104 - val_accuracy: 0.9846\n",
            "Epoch 29/30\n",
            "2532/2532 [==============================] - 3s 1ms/step - loss: 0.0119 - accuracy: 0.9841 - val_loss: 0.0096 - val_accuracy: 0.9879\n",
            "Epoch 30/30\n",
            "2532/2532 [==============================] - 3s 1ms/step - loss: 0.0118 - accuracy: 0.9835 - val_loss: 0.0106 - val_accuracy: 0.9900\n"
          ],
          "name": "stdout"
        }
      ]
    },
    {
      "cell_type": "code",
      "metadata": {
        "colab": {
          "base_uri": "https://localhost:8080/",
          "height": 295
        },
        "id": "hvV1Rakyx0r4",
        "outputId": "3d947ddf-8c0f-4547-c453-2d242a0a4af1"
      },
      "source": [
        "# Plotting model accuracy\n",
        "\n",
        "plt.plot(history.history['accuracy'])\n",
        "plt.plot(history.history['val_accuracy'])\n",
        "plt.title('model accuracy')\n",
        "plt.ylabel('accuracy')\n",
        "plt.xlabel('epoch')\n",
        "plt.legend(['train', 'val'], loc='upper left')\n",
        "plt.show()"
      ],
      "execution_count": null,
      "outputs": [
        {
          "output_type": "display_data",
          "data": {
            "image/png": "[encoded data removed]",
            "text/plain": [
              "<Figure size 432x288 with 1 Axes>"
            ]
          },
          "metadata": {
            "tags": [],
            "needs_background": "light"
          }
        }
      ]
    },
    {
      "cell_type": "code",
      "metadata": {
        "colab": {
          "base_uri": "https://localhost:8080/",
          "height": 295
        },
        "id": "DD6BtOJNx8VP",
        "outputId": "2a9cecfd-fb1a-4cca-d5fd-037adaec6877"
      },
      "source": [
        "# Plotting model loss\n",
        "\n",
        "plt.plot(history.history['loss'])\n",
        "plt.plot(history.history['val_loss'])\n",
        "plt.title('model loss')\n",
        "plt.ylabel('loss')\n",
        "plt.xlabel('epoch')\n",
        "plt.legend(['train', 'val'], loc='upper left')\n",
        "plt.show()"
      ],
      "execution_count": null,
      "outputs": [
        {
          "output_type": "display_data",
          "data": {
            "image/png": "[encoded data removed]",
            "text/plain": [
              "<Figure size 432x288 with 1 Axes>"
            ]
          },
          "metadata": {
            "tags": [],
            "needs_background": "light"
          }
        }
      ]
    },
    {
      "cell_type": "code",
      "metadata": {
        "colab": {
          "base_uri": "https://localhost:8080/"
        },
        "id": "oaDKwajiyEOX",
        "outputId": "2a922404-bd65-485e-dcf7-1a4c7ced5221"
      },
      "source": [
        "# Evaluating the model on test set\n",
        "\n",
        "test_loss, test_acc = model.evaluate(test_X, test_y)\n",
        "\n",
        "print('\\nTesting Loss = ', test_loss) \n",
        "print('Testing Accuracy = ', test_acc)"
      ],
      "execution_count": null,
      "outputs": [
        {
          "output_type": "stream",
          "text": [
            "313/313 [==============================] - 0s 600us/step - loss: 0.0120 - accuracy: 0.9896\n",
            "\n",
            "Testing Loss =  0.011978336609899998\n",
            "Testing Accuracy =  0.9896000027656555\n"
          ],
          "name": "stdout"
        }
      ]
    },
    {
      "cell_type": "code",
      "metadata": {
        "id": "Yc_xQ4zWyaB0",
        "colab": {
          "base_uri": "https://localhost:8080/"
        },
        "outputId": "6e32cf90-0af6-4401-bdce-30d002591084"
      },
      "source": [
        "!pip install -q ann_visualizer\n",
        "\n",
        "from ann_visualizer.visualize import ann_viz;\n",
        "ann_viz(model, title=\"3-link manipulator neural network\")"
      ],
      "execution_count": null,
      "outputs": [
        {
          "output_type": "stream",
          "text": [
            "  Building wheel for ann-visualizer (setup.py) ... \u001b[?25l\u001b[?25hdone\n"
          ],
          "name": "stdout"
        }
      ]
    },
    {
      "cell_type": "code",
      "metadata": {
        "id": "b6CD4M7Zyhvx"
      },
      "source": [
        "def iiitm_dataset():\n",
        "    rows = []\n",
        "\n",
        "    # for I\n",
        "    arr = np.linspace(5, 7, 100)\n",
        "    for y in arr:\n",
        "        x = 6\n",
        "        theta = math.degrees(math.atan(y/x))\n",
        "        rows.append([x, y, theta])\n",
        "\n",
        "    # for I\n",
        "    arr = np.linspace(5, 7, 100)\n",
        "    for y in arr:\n",
        "        x = 7\n",
        "        theta = math.degrees(math.atan(y/x))\n",
        "        rows.append([x, y, theta])\n",
        "\n",
        "    # for I\n",
        "    arr = np.linspace(5, 7, 100)\n",
        "    for y in arr:\n",
        "        x = 8\n",
        "        theta = math.degrees(math.atan(y/x))\n",
        "        rows.append([x, y, theta])\n",
        "\n",
        "    # for T\n",
        "    arr = np.linspace(8.5, 10.5, 100)\n",
        "    for x in arr:\n",
        "        y = 7\n",
        "        theta = math.degrees(math.atan(y/x))\n",
        "        rows.append([x, y, theta])\n",
        "\n",
        "    arr = np.linspace(5, 7, 100)\n",
        "    for y in arr:\n",
        "        x = 9.5\n",
        "        theta = math.degrees(math.atan(y/x))\n",
        "        rows.append([x, y, theta])\n",
        "\n",
        "    # for M\n",
        "    arr = np.linspace(5, 7, 100)\n",
        "    for y in arr:\n",
        "        x = 11\n",
        "        theta = math.degrees(math.atan(y/x))\n",
        "        rows.append([x, y, theta])\n",
        "\n",
        "    arr = np.linspace(5, 7, 100)\n",
        "    for y in arr:\n",
        "        x = ((-y)+29)/2\n",
        "        theta = math.degrees(math.atan(y/x))\n",
        "        rows.append([x, y, theta])\n",
        "\n",
        "    arr = np.linspace(5, 7, 100)\n",
        "    for y in arr:\n",
        "        x = ((y)+19)/2\n",
        "        theta = math.degrees(math.atan(y/x))\n",
        "        rows.append([x, y, theta])\n",
        "\n",
        "    arr = np.linspace(5, 7, 100)\n",
        "    for y in arr:\n",
        "        x = 13\n",
        "        theta = math.degrees(math.atan(y/x))\n",
        "        rows.append([x, y, theta])\n",
        "\n",
        "    df = pd.DataFrame(rows, columns=['x', 'y', 'theta'])\n",
        "    df.to_csv('iiitm.csv', index=False)\n",
        "    \n",
        "iiitm_dataset()"
      ],
      "execution_count": null,
      "outputs": []
    },
    {
      "cell_type": "code",
      "metadata": {
        "id": "EsoeeWwc13WL"
      },
      "source": [
        "def three_link_forward_kinematics(theta1, theta2, theta3):\n",
        "    x = (np.cos(theta1)*l1)+(np.cos(theta1+theta2)*l2)+(np.cos(theta1+theta2+theta3)*l3)\n",
        "    y = (np.sin(theta1)*l1)+(np.sin(theta1+theta2)*l2)+(np.sin(theta1+theta2+theta3)*l3)\n",
        "\n",
        "    return x, y"
      ],
      "execution_count": null,
      "outputs": []
    },
    {
      "cell_type": "code",
      "metadata": {
        "id": "yYRuloK73Y6c"
      },
      "source": [
        "iiitm_data = pd.read_csv('iiitm.csv')\n",
        "iiitm_predictions = model.predict(iiitm_data.values)\n",
        "x_predictions, y_predictions = three_link_forward_kinematics(iiitm_predictions[:,0], iiitm_predictions[:,1], iiitm_predictions[:,2])"
      ],
      "execution_count": null,
      "outputs": []
    },
    {
      "cell_type": "code",
      "metadata": {
        "colab": {
          "base_uri": "https://localhost:8080/",
          "height": 761
        },
        "id": "edjJg7aM4OIu",
        "outputId": "a5a95df6-1444-40e9-f734-6759d37f4728"
      },
      "source": [
        "# Original\n",
        "plt.plot(iiitm_data['x'], iiitm_data['y'], 'go')\n",
        "plt.show()\n",
        "\n",
        "# Predicted\n",
        "plt.plot(x_predictions, y_predictions, 'bo')\n",
        "plt.show()\n",
        "\n",
        "# Original and Predicted\n",
        "plt.plot(iiitm_data['x'], iiitm_data['y'], 'go')\n",
        "plt.plot(x_predictions, y_predictions, 'bo')\n",
        "plt.show()"
      ],
      "execution_count": null,
      "outputs": [
        {
          "output_type": "display_data",
          "data": {
            "image/png": "[encoded data removed]",
            "text/plain": [
              "<Figure size 432x288 with 1 Axes>"
            ]
          },
          "metadata": {
            "tags": [],
            "needs_background": "light"
          }
        },
        {
          "output_type": "display_data",
          "data": {
            "image/png": "[encoded data removed]",
            "text/plain": [
              "<Figure size 432x288 with 1 Axes>"
            ]
          },
          "metadata": {
            "tags": [],
            "needs_background": "light"
          }
        },
        {
          "output_type": "display_data",
          "data": {
            "image/png": "[encoded data removed]",
            "text/plain": [
              "<Figure size 432x288 with 1 Axes>"
            ]
          },
          "metadata": {
            "tags": [],
            "needs_background": "light"
          }
        }
      ]
    },
    {
      "cell_type": "code",
      "metadata": {
        "id": "055LKJOhsCNF"
      },
      "source": [
        "def harshit_dataset():\n",
        "    rows = []\n",
        "    # for H\n",
        "    arr = np.linspace(5, 7, 100)\n",
        "    for y in arr:\n",
        "        x = 3\n",
        "        theta = math.degrees(math.atan(y/x))\n",
        "        rows.append([x, y, theta])\n",
        "\n",
        "    arr = np.linspace(3, 5, 50)\n",
        "    for x in arr:\n",
        "        y = 6\n",
        "        theta = math.degrees(math.atan(y/x))\n",
        "        rows.append([x, y, theta])\n",
        "\n",
        "    arr = np.linspace(5, 7, 100)\n",
        "    for y in arr:\n",
        "        x = 5\n",
        "        theta = math.degrees(math.atan(y/x))\n",
        "        rows.append([x, y, theta])\n",
        "\n",
        "    # for A\n",
        "    arr = np.linspace(5, 7, 100)\n",
        "    for y in arr:\n",
        "        x = (y+7)/2\n",
        "        theta = math.degrees(math.atan(y/x))\n",
        "        rows.append([x, y, theta])\n",
        "\n",
        "    arr = np.linspace(5, 7, 100)\n",
        "    for y in arr:\n",
        "        x = (-y+21)/2\n",
        "        theta = math.degrees(math.atan(y/x))\n",
        "        rows.append([x, y, theta])\n",
        "\n",
        "    arr = np.linspace(6.5, 7.5, 50)\n",
        "    for x in arr:\n",
        "        y = 6\n",
        "        theta = math.degrees(math.atan(y/x))\n",
        "        rows.append([x, y, theta])\n",
        "\n",
        "    # for R\n",
        "    arr = np.linspace(5, 7, 100)\n",
        "    for y in arr:\n",
        "        x = 9\n",
        "        theta = math.degrees(math.atan(y/x))\n",
        "        rows.append([x, y, theta])\n",
        "\n",
        "    arr = np.linspace(9, 10, 50)\n",
        "    for x in arr:\n",
        "        y = 7\n",
        "        theta = math.degrees(math.atan(y/x))\n",
        "        rows.append([x, y, theta])\n",
        "    arr = np.linspace(5, 6, 100)\n",
        "    for y in arr:\n",
        "        x = -y+15\n",
        "        theta = math.degrees(math.atan(y/x))\n",
        "        rows.append([x, y, theta])\n",
        "\n",
        "    arr = np.linspace(6, 7, 100)\n",
        "    for y in arr:\n",
        "        x = y+3\n",
        "        theta = math.degrees(math.atan(y/x))\n",
        "        rows.append([x, y, theta])\n",
        "\n",
        "    # for S\n",
        "    arr = np.linspace(11, 12, 50)\n",
        "    for x in arr:\n",
        "        y = 7\n",
        "        theta = math.degrees(math.atan(y/x))\n",
        "        rows.append([x, y, theta])\n",
        "    arr = np.linspace(11, 12, 50)\n",
        "    for x in arr:\n",
        "        y = 5\n",
        "        theta = math.degrees(math.atan(y/x))\n",
        "        rows.append([x, y, theta])\n",
        "\n",
        "    arr = np.linspace(5, 7, 100)\n",
        "    for y in arr:\n",
        "        x = (-y+29)/2\n",
        "        theta = math.degrees(math.atan(y/x))\n",
        "        rows.append([x, y, theta])\n",
        "\n",
        "    # for I\n",
        "\n",
        "    # for H\n",
        "    arr = np.linspace(5, 7, 100)\n",
        "    for y in arr:\n",
        "        x = 13\n",
        "        theta = math.degrees(math.atan(y/x))\n",
        "        rows.append([x, y, theta])\n",
        "\n",
        "    arr = np.linspace(13, 15, 50)\n",
        "    for x in arr:\n",
        "        y = 6\n",
        "        theta = math.degrees(math.atan(y/x))\n",
        "        rows.append([x, y, theta])\n",
        "\n",
        "    arr = np.linspace(5, 7, 100)\n",
        "    for y in arr:\n",
        "        x = 15\n",
        "        theta = math.degrees(math.atan(y/x))\n",
        "        rows.append([x, y, theta])\n",
        "\n",
        "    # for E\n",
        "    arr = np.linspace(5, 7, 100)\n",
        "    for y in arr:\n",
        "        x = 16\n",
        "        theta = math.degrees(math.atan(y/x))\n",
        "        rows.append([x, y, theta])\n",
        "\n",
        "    # for T\n",
        "    arr = np.linspace(17, 19, 100)\n",
        "    for x in arr:\n",
        "        y = 7\n",
        "        theta = math.degrees(math.atan(y/x))\n",
        "        rows.append([x, y, theta])\n",
        "\n",
        "    arr = np.linspace(5, 7, 100)\n",
        "    for y in arr:\n",
        "        x = 18\n",
        "        theta = math.degrees(math.atan(y/x))\n",
        "        rows.append([x, y, theta])\n",
        "\n",
        "    df = pd.DataFrame(rows, columns=['x', 'y', 'theta'])\n",
        "    df.to_csv('harshit.csv', index=False)\n",
        "    \n",
        "harshit_dataset()"
      ],
      "execution_count": 145,
      "outputs": []
    },
    {
      "cell_type": "code",
      "metadata": {
        "id": "moGh8eDIuADi"
      },
      "source": [
        "harshit_data = pd.read_csv('harshit.csv')\n",
        "harshit_predictions = model.predict(harshit_data.values)\n",
        "x_predictions, y_predictions = three_link_forward_kinematics(harshit_predictions[:,0], harshit_predictions[:,1], harshit_predictions[:,2])"
      ],
      "execution_count": 146,
      "outputs": []
    },
    {
      "cell_type": "code",
      "metadata": {
        "colab": {
          "base_uri": "https://localhost:8080/",
          "height": 761
        },
        "id": "0hMZI4QYuTT0",
        "outputId": "23c3e0a9-aa4b-4093-ebce-6d31f2c04c53"
      },
      "source": [
        "# Original\n",
        "plt.plot(harshit_data['x'], harshit_data['y'], 'go')\n",
        "plt.show()\n",
        "\n",
        "# Predicted\n",
        "plt.plot(x_predictions, y_predictions, 'bo')\n",
        "plt.show()\n",
        "\n",
        "# Original and Predicted\n",
        "plt.plot(harshit_data['x'], harshit_data['y'], 'go')\n",
        "plt.plot(x_predictions, y_predictions, 'bo')\n",
        "plt.show()"
      ],
      "execution_count": 147,
      "outputs": [
        {
          "output_type": "display_data",
          "data": {
            "image/png": "[encoded data removed]",
            "text/plain": [
              "<Figure size 432x288 with 1 Axes>"
            ]
          },
          "metadata": {
            "tags": [],
            "needs_background": "light"
          }
        },
        {
          "output_type": "display_data",
          "data": {
            "image/png": "[encoded data removed]",
            "text/plain": [
              "<Figure size 432x288 with 1 Axes>"
            ]
          },
          "metadata": {
            "tags": [],
            "needs_background": "light"
          }
        },
        {
          "output_type": "display_data",
          "data": {
            "image/png": "[encoded data removed]",
            "text/plain": [
              "<Figure size 432x288 with 1 Axes>"
            ]
          },
          "metadata": {
            "tags": [],
            "needs_background": "light"
          }
        }
      ]
    },
    {
      "cell_type": "code",
      "metadata": {
        "id": "ycMCYjOWzc_R"
      },
      "source": [
        ""
      ],
      "execution_count": null,
      "outputs": []
    },
    {
      "cell_type": "code",
      "metadata": {
        "id": "tE_Eja1izc_R"
      },
      "source": [
        ""
      ],
      "execution_count": null,
      "outputs": []
    }
  ]
}